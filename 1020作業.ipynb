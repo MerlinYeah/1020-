{
  "nbformat": 4,
  "nbformat_minor": 0,
  "metadata": {
    "colab": {
      "provenance": []
    },
    "kernelspec": {
      "name": "python3",
      "display_name": "Python 3"
    },
    "language_info": {
      "name": "python"
    }
  },
  "cells": [
    {
      "cell_type": "code",
      "execution_count": 8,
      "metadata": {
        "colab": {
          "base_uri": "https://localhost:8080/"
        },
        "id": "mSHuqUvD_2gl",
        "outputId": "c445b5b5-a18f-4021-9251-99071c93bf00"
      },
      "outputs": [
        {
          "output_type": "stream",
          "name": "stdout",
          "text": [
            "請輸入數字範圍3\n",
            "1x1=1\n",
            "1x2=2\n",
            "2x1=2\n",
            "2x2=4\n"
          ]
        }
      ],
      "source": [
        "number = int(input(\"請輸入數字範圍\"))\n",
        "for i in range(1,number):\n",
        "  for j in range(1,number):\n",
        "    product=i*j\n",
        "    print(f\"{i}x{j}={product}\")"
      ]
    },
    {
      "cell_type": "code",
      "source": [
        "import random\n",
        "#生成一個隨機數字，這是要猜的數字\n",
        "target_number = random.randint(1,100)\n",
        "print(\"歡迎參加數字遊戲\")\n",
        "ans = 0\n",
        "while ans == 0:\n",
        "  guess = int(input(\"guess a number\"))\n",
        "  if guess > target_number:\n",
        "    print(\"guess lower\")\n",
        "  elif guess < target_number:\n",
        "    print(\"guess higher\")\n",
        "  else:\n",
        "     print(f\"congradulation! the answer is {target_number}\")\n",
        "     ans = 1\n",
        "print(\"遊戲結束\")\n",
        ""
      ],
      "metadata": {
        "colab": {
          "base_uri": "https://localhost:8080/"
        },
        "id": "SV6hrAXAFp8a",
        "outputId": "6585efc5-ef12-4a16-b6f2-93e446f304bd"
      },
      "execution_count": 9,
      "outputs": [
        {
          "output_type": "stream",
          "name": "stdout",
          "text": [
            "歡迎參加數字遊戲\n",
            "guess a number20\n",
            "guess higher\n",
            "guess a number25\n",
            "guess higher\n",
            "guess a number60\n",
            "guess lower\n",
            "guess a number50\n",
            "guess lower\n",
            "guess a number40\n",
            "congradulation! the answer is 40\n",
            "遊戲結束\n"
          ]
        }
      ]
    }
  ]
}